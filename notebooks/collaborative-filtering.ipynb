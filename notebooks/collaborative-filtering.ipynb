{
 "cells": [
  {
   "cell_type": "markdown",
   "metadata": {},
   "source": [
    "# **Build Your First RecSys**\n",
    "\n",
    "In this notebook, you will build a simple collaborative filtering-based movie recommendation system."
   ]
  },
  {
   "cell_type": "code",
   "execution_count": null,
   "metadata": {},
   "outputs": [],
   "source": [
    "import pandas as pd \n",
    "import numpy as np\n",
    "import matplotlib.pyplot as plt"
   ]
  },
  {
   "cell_type": "markdown",
   "metadata": {},
   "source": [
    "## Loading the data\n",
    "\n",
    "We will use the [MovieLens Dataset](https://www.kaggle.com/datasets/rounakbanik/the-movies-dataset) that consists of movies released on or before July 2017. Data points include metadata about the movies, as well as 26 million ratings from 270,000 users for all 45,000 movies. Ratings are on a scale of 1-5 and have been obtained from the official GroupLens website.\n",
    "\n",
    "For the purpose of this exercise, we will use a subset of 100,000 ratings from 700 users on 9,000 movies.\n"
   ]
  },
  {
   "cell_type": "markdown",
   "metadata": {},
   "source": [
    "*movies_metadata.csv* contains information about the movies:"
   ]
  },
  {
   "cell_type": "code",
   "execution_count": null,
   "metadata": {},
   "outputs": [],
   "source": [
    "movies = pd.read_csv(\"https://raw.githubusercontent.com/evgeniyako-edu/build-your-first-recsys-workshop/main/data/movies_metadata.csv\",\n",
    "                     low_memory=False)\n",
    "movies = movies.drop([19730, 29503, 35587])\n",
    "movies['id'] = pd.to_numeric(movies['id'])\n",
    "movies.head()"
   ]
  },
  {
   "cell_type": "markdown",
   "metadata": {},
   "source": [
    "*ratings_small.csv* contains the ratings. We can drop the $\\texttt{timestamp}$ column as we will not use it in this exercise."
   ]
  },
  {
   "cell_type": "code",
   "execution_count": null,
   "metadata": {},
   "outputs": [],
   "source": [
    "ratings = pd.read_csv(\"https://raw.githubusercontent.com/evgeniyako-edu/build-your-first-recsys-workshop/main/data/ratings_small.csv\",\n",
    "                     low_memory=False).drop([\"timestamp\"], axis=1)\n",
    "ratings.head()"
   ]
  },
  {
   "cell_type": "markdown",
   "metadata": {},
   "source": [
    "Let's merge the two tables so that the ratings table also contains the name of the movie:"
   ]
  },
  {
   "cell_type": "code",
   "execution_count": null,
   "metadata": {},
   "outputs": [],
   "source": [
    "ratings = (ratings.merge(movies[[\"id\", \"title\"]],\n",
    "                        right_on=\"id\", \n",
    "                        left_on=\"movieId\")).drop([\"id\"], axis=1).sort_values(\"userId\")\n",
    "ratings.head(10)"
   ]
  },
  {
   "cell_type": "markdown",
   "metadata": {},
   "source": [
    "## Explorative Data Analysis (EDA)"
   ]
  },
  {
   "cell_type": "markdown",
   "metadata": {},
   "source": [
    "Let's explore the dataset in a bit more detail. \n",
    "\n",
    "Most users rate a couple of movies. However, there are some dedicated users who give ratings to 100+ movies: "
   ]
  },
  {
   "cell_type": "code",
   "execution_count": null,
   "metadata": {},
   "outputs": [],
   "source": [
    "counts_per_user = ratings.groupby(\"userId\")[[\"movieId\"]].count().reset_index()\n",
    "counts_per_user.columns = [\"userId\", \"num_movies_rated\"]\n",
    "plt.figure(figsize=(12,5))\n",
    "plt.hist(counts_per_user[\"num_movies_rated\"], bins=range(0,800,50))\n",
    "plt.xticks(range(0,800,50))\n",
    "_ = plt.xlabel(\"number of movies rated\")\n",
    "_ = plt.ylabel(\"number of users\")"
   ]
  },
  {
   "cell_type": "markdown",
   "metadata": {},
   "source": [
    "What are the most rated movies in the dataset? Display them together with their average rating."
   ]
  },
  {
   "cell_type": "code",
   "execution_count": null,
   "metadata": {},
   "outputs": [],
   "source": [
    "# TODO"
   ]
  },
  {
   "cell_type": "markdown",
   "metadata": {},
   "source": [
    "## Collaborative Filtering\n",
    "\n",
    "In this section, we will implement a simple collaborative filtering-based recommender which would predict the ratings a user would give to unseen movies. Top-rated candidates can then be suggested to the user.\n",
    "\n",
    "Our system will predict the unknown ranking as a linear combination of the ratings given to the movie by other users who have seen it. We will weigh each of such ratings by how much the user in question is similar to each of these other users. More spicifically, a prediction a user $u$ would give to the unseen movie $i$ is\n",
    "\n",
    "$$\\hat{R_{ui}} = \\bar{R}_u + w_{uv}\\sum_{v}\\left(R_{vi} - \\bar{R}_{v} \\right)$$\n",
    "\n",
    "There, the summation goes over all users $v$ who rated movie $i$, and $\\bar{R}$ is an average rating given by a user to all the movies they have rated.\n",
    "\n",
    "Similarity between users $u$ and $v$ can be measured as Pearson correlation between the ratings vectors from these users, considering only the movies both of them rated:\n",
    "\n",
    "$$w_{uv} = \\frac{\\sum_j (R_{uj} - \\bar{R}_u )(R_{vj} - \\bar{R}_v )}{\\sqrt{{\\sum_j (R_{uj} - \\bar{R}_u )^2}{\\sum_j (R_{vj} - \\bar{R}_v )^2}}}$$\n",
    "\n",
    "There, the summation goes over all movies $j$ that were rated by both users $u$ and $v$."
   ]
  },
  {
   "cell_type": "markdown",
   "metadata": {},
   "source": [
    "Let's first implement some building blocks and then bring them together in a single collaborative filtering system. "
   ]
  },
  {
   "cell_type": "code",
   "execution_count": null,
   "metadata": {},
   "outputs": [],
   "source": [
    "def predict_rating(user_id, movie_id, ratings):\n",
    "    \"\"\" \n",
    "    Predict rating that a user user_id would give to movie movie_id \n",
    "    using collaborative filtering\n",
    "    \"\"\"\n",
    "    \n",
    "    # Step 1: Get all the ratings for the movie in question\n",
    "\n",
    "    # Step 2: Compute similarity between the user in question, user_id,\n",
    "    # and everyone who has rated the movie in question, movie_id\n",
    "    \n",
    "\n",
    "    # Step 3: Compute the predicted rating               \n",
    "    \n",
    "    pass"
   ]
  },
  {
   "cell_type": "markdown",
   "metadata": {},
   "source": [
    "Let's take a look at the first user who has rated only 6 movies. Which of the top 50 most-rated movies can we recommend them to watch?\n",
    "\n",
    "How does it compare to our recommendations to, for example, user 2?"
   ]
  },
  {
   "cell_type": "code",
   "execution_count": null,
   "metadata": {},
   "outputs": [],
   "source": [
    "# TODO"
   ]
  }
 ],
 "metadata": {
  "kernelspec": {
   "display_name": "Python 3",
   "language": "python",
   "name": "python3"
  },
  "language_info": {
   "codemirror_mode": {
    "name": "ipython",
    "version": 3
   },
   "file_extension": ".py",
   "mimetype": "text/x-python",
   "name": "python",
   "nbconvert_exporter": "python",
   "pygments_lexer": "ipython3",
   "version": "3.10.5"
  }
 },
 "nbformat": 4,
 "nbformat_minor": 2
}
