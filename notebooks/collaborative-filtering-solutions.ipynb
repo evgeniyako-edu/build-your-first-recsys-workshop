{
 "cells": [
  {
   "cell_type": "markdown",
   "metadata": {},
   "source": [
    "# **Build Your First RecSys**\n",
    "\n",
    "In this notebook, you will build a simple collaborative filtering-based movie recommendation system."
   ]
  },
  {
   "cell_type": "code",
   "execution_count": null,
   "metadata": {},
   "outputs": [],
   "source": [
    "import pandas as pd \n",
    "import numpy as np\n",
    "import matplotlib.pyplot as plt"
   ]
  },
  {
   "cell_type": "markdown",
   "metadata": {},
   "source": [
    "## Loading the data\n",
    "\n",
    "We will use the [MovieLens Dataset](https://www.kaggle.com/datasets/rounakbanik/the-movies-dataset) that consists of movies released on or before July 2017. Data points include metadata about the movies, as well as 26 million ratings from 270,000 users for all 45,000 movies. Ratings are on a scale of 1-5 and have been obtained from the official GroupLens website.\n",
    "\n",
    "For the purpose of this exercise, we will use a subset of 100,000 ratings from 700 users on 9,000 movies.\n"
   ]
  },
  {
   "cell_type": "markdown",
   "metadata": {},
   "source": [
    "*movies_metadata.csv* contains information about the movies:"
   ]
  },
  {
   "cell_type": "code",
   "execution_count": null,
   "metadata": {},
   "outputs": [],
   "source": [
    "movies = pd.read_csv(\"https://raw.githubusercontent.com/evgeniyako-edu/build-your-first-recsys-workshop/main/data/movies_metadata.csv\",\n",
    "                     low_memory=False)\n",
    "movies = movies.drop([19730, 29503, 35587])\n",
    "movies['id'] = pd.to_numeric(movies['id'])\n",
    "movies.head()"
   ]
  },
  {
   "cell_type": "markdown",
   "metadata": {},
   "source": [
    "*ratings_small.csv* contains the ratings. We can drop the $\\texttt{timestamp}$ column as we will not use it in this exercise."
   ]
  },
  {
   "cell_type": "code",
   "execution_count": null,
   "metadata": {},
   "outputs": [],
   "source": [
    "ratings = pd.read_csv(\"https://raw.githubusercontent.com/evgeniyako-edu/build-your-first-recsys-workshop/main/data/ratings_small.csv\",\n",
    "                     low_memory=False).drop([\"timestamp\"], axis=1)\n",
    "ratings.head()"
   ]
  },
  {
   "cell_type": "markdown",
   "metadata": {},
   "source": [
    "Let's merge the two tables so that the ratings table also contains the name of the movie:"
   ]
  },
  {
   "cell_type": "code",
   "execution_count": null,
   "metadata": {},
   "outputs": [],
   "source": [
    "ratings = (ratings.merge(movies[[\"id\", \"title\"]],\n",
    "                        right_on=\"id\", \n",
    "                        left_on=\"movieId\")).drop([\"id\"], axis=1).sort_values(\"userId\")\n",
    "ratings.head(10)"
   ]
  },
  {
   "cell_type": "markdown",
   "metadata": {},
   "source": [
    "## Explorative Data Analysis (EDA)"
   ]
  },
  {
   "cell_type": "markdown",
   "metadata": {},
   "source": [
    "Let's explore the dataset in a bit more detail. \n",
    "\n",
    "Most users rate a couple of movies. However, there are some dedicated users who give ratings to 100+ movies: "
   ]
  },
  {
   "cell_type": "code",
   "execution_count": null,
   "metadata": {},
   "outputs": [],
   "source": [
    "counts_per_user = ratings.groupby(\"userId\")[[\"movieId\"]].count().reset_index()\n",
    "counts_per_user.columns = [\"userId\", \"num_movies_rated\"]\n",
    "plt.figure(figsize=(12,5))\n",
    "plt.hist(counts_per_user[\"num_movies_rated\"], bins=range(0,800,50))\n",
    "plt.xticks(range(0,800,50))\n",
    "_ = plt.xlabel(\"number of movies rated\")\n",
    "_ = plt.ylabel(\"number of users\")"
   ]
  },
  {
   "cell_type": "markdown",
   "metadata": {},
   "source": [
    "What are the most rated movies in the dataset? Display them together with their average rating."
   ]
  },
  {
   "cell_type": "code",
   "execution_count": null,
   "metadata": {},
   "outputs": [],
   "source": [
    "ratings_per_movie = ratings\\\n",
    "                    .groupby(\"title\")[[\"userId\", \"rating\"]]\\\n",
    "                    .agg({\"userId\": len,\n",
    "                          \"rating\": np.mean}).reset_index()\n",
    "ratings_per_movie.columns = [\"original_title\", \"num_users_rated\", \"avg_rating\"]\n",
    "\n",
    "ratings_per_movie.sort_values(\"num_users_rated\", ascending=False).head(10)"
   ]
  },
  {
   "cell_type": "markdown",
   "metadata": {},
   "source": [
    "## Collaborative Filtering\n",
    "\n",
    "In this section, we will implement a simple collaborative filtering-based recommender which would predict the ratings a user would give to unseen movies. Top-rated candidates can then be suggested to the user.\n",
    "\n",
    "Our system will predict the unknown ranking as a linear combination of the ratings given to the movie by other users who have seen it. We will weigh each of such ratings by how much the user in question is similar to each of these other users. More spicifically, a prediction a user $u$ would give to the unseen movie $i$ is\n",
    "\n",
    "$$\\hat{R_{ui}} = \\bar{R}_u + w_{uv}\\sum_{v}\\left(R_{vi} - \\bar{R}_{v} \\right)$$\n",
    "\n",
    "There, the summation goes over all users $v$ who rated movie $i$, and $\\bar{R}$ is an average rating given by a user to all the movies they have rated.\n",
    "\n",
    "Similarity between users $u$ and $v$ can be measured as Pearson correlation between the ratings vectors from these users, considering only the movies both of them rated:\n",
    "\n",
    "$$w_{uv} = \\frac{\\sum_j (R_{uj} - \\bar{R}_u )(R_{vj} - \\bar{R}_v )}{\\sqrt{{\\sum_j (R_{uj} - \\bar{R}_u )^2}{\\sum_j (R_{vj} - \\bar{R}_v )^2}}}$$\n",
    "\n",
    "There, the summation goes over all movies $j$ that were rated by both users $u$ and $v$."
   ]
  },
  {
   "cell_type": "markdown",
   "metadata": {},
   "source": [
    "Let's first implement some building blocks and then bring them together in a single collaborative filtering system. "
   ]
  },
  {
   "cell_type": "code",
   "execution_count": null,
   "metadata": {},
   "outputs": [],
   "source": [
    "def get_ratings_movie(movie_id, ratings):\n",
    "    \"\"\" \n",
    "    Get all the ratings data for a given movie\n",
    "    \"\"\"\n",
    "    return ratings[ratings[\"movieId\"] == movie_id]"
   ]
  },
  {
   "cell_type": "code",
   "execution_count": null,
   "metadata": {},
   "outputs": [],
   "source": [
    "def get_user_ratings(user_id, ratings):\n",
    "    \"\"\"\n",
    "    Get all the ratings given by a given user\n",
    "    \"\"\"\n",
    "    return ratings[ratings[\"userId\"] == user_id][[\"movieId\", \"rating\"]]"
   ]
  },
  {
   "cell_type": "code",
   "execution_count": null,
   "metadata": {},
   "outputs": [],
   "source": [
    "def compute_similarity(user_a, user_b, ratings):\n",
    "    \"\"\"\n",
    "    Compute similarity between the two given users.\n",
    "\n",
    "    Similarity is defined as \"correlation coefficient\" \n",
    "    between the rating vectors from the two users,\n",
    "    and is computed on a subset of movies rated by both users.\n",
    "    \"\"\"\n",
    "    # Get movies commonly rated by both user_a and user_b\n",
    "    common_ratings = pd.merge(get_user_ratings(user_a, ratings), \n",
    "                              get_user_ratings(user_b, ratings),\n",
    "                              on=\"movieId\",\n",
    "                              how=\"inner\",\n",
    "                              suffixes=('_a', '_b'))\n",
    "    \n",
    "    # Let's not compute similarity if two users \n",
    "    # have less then 5 movies in common\n",
    "    if common_ratings.shape[0] <= 5:\n",
    "        return 0\n",
    "    # Otherwise, compute the correlation coefficient\n",
    "    # (we can compute mean rating across all ratings,\n",
    "    # but the similarity itself based on the commonly rated movies only)\n",
    "    else:\n",
    "        mean_rating_a = ratings[ratings[\"userId\"] == user_a][\"rating\"].mean()\n",
    "        mean_rating_b = ratings[ratings[\"userId\"] == user_b][\"rating\"].mean()\n",
    "        numenator_a = (common_ratings[\"rating_a\"] - mean_rating_a)\n",
    "        numenator_b = (common_ratings[\"rating_b\"] - mean_rating_b)\n",
    "        numerator = np.sum(numenator_a*numenator_b)\n",
    "        denominator_a = np.sum(common_ratings[\"rating_a\"]-mean_rating_a)**2\n",
    "        denominator_b = np.sum(common_ratings[\"rating_b\"]-mean_rating_b)**2\n",
    "        denominator = np.sqrt(denominator_a*denominator_b)\n",
    "        if denominator == 0:\n",
    "            return 0\n",
    "        else:\n",
    "            return numerator/denominator"
   ]
  },
  {
   "cell_type": "code",
   "execution_count": null,
   "metadata": {},
   "outputs": [],
   "source": [
    "def predict_rating(user_id, movie_id, ratings):\n",
    "    \"\"\" \n",
    "    Predict rating that a user user_id would give to movie movie_id \n",
    "    using collaborative filtering\n",
    "    \"\"\"\n",
    "    \n",
    "    # Get all the ratings for the movie in question\n",
    "    ratings_movie = get_ratings_movie(movie_id, ratings)\n",
    "\n",
    "    # Compute similarity between the user in question, user_id,\n",
    "    # and everyone who has rated the movie in question, movie_id\n",
    "    similarities = {}\n",
    "    for another_user_id in ratings_movie[\"userId\"]:\n",
    "        similarity = compute_similarity(user_id, another_user_id, ratings)\n",
    "        if similarity:\n",
    "            similarities[user_id] = similarity\n",
    "\n",
    "    # Compute the predicted rating       \n",
    "            \n",
    "    prediction = ratings[ratings[\"userId\"] == user_id][\"rating\"].mean()\n",
    "    for user_id, similarity in similarities.items():\n",
    "        prediction += similarity*ratings[ratings[\"userId\"] == user_id][\"rating\"].mean()\n",
    "    \n",
    "    return prediction"
   ]
  },
  {
   "cell_type": "markdown",
   "metadata": {},
   "source": [
    "Let's take a look at the first user who has rated only 6 movies. Which of the top 50 most-rated movies can we recommend them to watch?\n",
    "\n",
    "How does it compare to our recommendations to, for example, user 2?"
   ]
  },
  {
   "cell_type": "code",
   "execution_count": null,
   "metadata": {},
   "outputs": [],
   "source": [
    "ratings[ratings[\"userId\"] == 1]"
   ]
  },
  {
   "cell_type": "code",
   "execution_count": null,
   "metadata": {},
   "outputs": [],
   "source": [
    "def get_title(movie_id, movies):\n",
    "    return movies[movies[\"id\"] == movie_id][\"title\"].values[0]\n",
    "\n",
    "def get_movie_id(movie_title, movies):\n",
    "    return movies[movies[\"title\"] == movie_title][\"id\"].values[0]"
   ]
  },
  {
   "cell_type": "code",
   "execution_count": null,
   "metadata": {},
   "outputs": [],
   "source": [
    "user_id = 2\n",
    "predictions = {}\n",
    "user_ratings = get_user_ratings(user_id, ratings)\n",
    "for movie_title in ratings_per_movie.sort_values(\"num_users_rated\", ascending=False).head(50)[\"original_title\"]:\n",
    "    movie_id = get_movie_id(movie_title, movies)\n",
    "    if movie_id not in user_ratings[\"movieId\"].values:\n",
    "        predictions[movie_title] = predict_rating(user_id, movie_id, ratings)"
   ]
  },
  {
   "cell_type": "code",
   "execution_count": null,
   "metadata": {},
   "outputs": [],
   "source": [
    "sorted(predictions.items(), key=lambda x: x[1], reverse=True)"
   ]
  }
 ],
 "metadata": {
  "kernelspec": {
   "display_name": "Python 3",
   "language": "python",
   "name": "python3"
  },
  "language_info": {
   "codemirror_mode": {
    "name": "ipython",
    "version": 3
   },
   "file_extension": ".py",
   "mimetype": "text/x-python",
   "name": "python",
   "nbconvert_exporter": "python",
   "pygments_lexer": "ipython3",
   "version": "3.10.5"
  }
 },
 "nbformat": 4,
 "nbformat_minor": 2
}
